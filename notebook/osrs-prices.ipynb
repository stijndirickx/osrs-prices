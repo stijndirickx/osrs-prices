{
 "cells": [
  {
   "cell_type": "markdown",
   "metadata": {},
   "source": [
    "# OSRS PRICES"
   ]
  },
  {
   "cell_type": "code",
   "execution_count": 2,
   "metadata": {},
   "outputs": [],
   "source": [
    "import requests\n",
    "import json\n",
    "from IPython.display import Image\n",
    "import time"
   ]
  },
  {
   "cell_type": "markdown",
   "metadata": {},
   "source": [
    "__Data explained__\n",
    "\n",
    "| summary.json       | graphs (180/1440/4320) |\n",
    "|--------------------|------------------------|\n",
    "| 0 id               | 0 ts                   |\n",
    "| 1 name             | 1 overallPrice         |\n",
    "| 2 members          | 2 overallQuantity      |\n",
    "| 3 sp               | 3 buyingPrice          |\n",
    "| 4 buy_average      | 4 buyingQuantity       |\n",
    "| 5 buy_quantity     | 5 sellingPrice         |\n",
    "| 6 sell_average     | 6 sellingQuantity      |\n",
    "| 7 sell_quantity    |                        |\n",
    "| 8 overall_average  |                        |\n",
    "| 9 overall_quantity |                        |"
   ]
  },
  {
   "cell_type": "code",
   "execution_count": 3,
   "metadata": {},
   "outputs": [
    {
     "name": "stdout",
     "output_type": "stream",
     "text": [
      "Black mask (10) 1059548\n"
     ]
    },
    {
     "data": {
      "image/png": "[encoded data removed]",
      "text/plain": [
       "<IPython.core.display.Image object>"
      ]
     },
     "metadata": {},
     "output_type": "display_data"
    },
    {
     "name": "stdout",
     "output_type": "stream",
     "text": [
      "Black mask 1069609\n"
     ]
    },
    {
     "data": {
      "image/png": "[encoded data removed]",
      "text/plain": [
       "<IPython.core.display.Image object>"
      ]
     },
     "metadata": {},
     "output_type": "display_data"
    },
    {
     "name": "stdout",
     "output_type": "stream",
     "text": [
      "3rd age robe top 51999999\n"
     ]
    },
    {
     "data": {
      "image/png": "[encoded data removed]",
      "text/plain": [
       "<IPython.core.display.Image object>"
      ]
     },
     "metadata": {},
     "output_type": "display_data"
    },
    {
     "name": "stdout",
     "output_type": "stream",
     "text": [
      "3rd age full helmet 14949414\n"
     ]
    },
    {
     "data": {
      "image/png": "[encoded data removed]",
      "text/plain": [
       "<IPython.core.display.Image object>"
      ]
     },
     "metadata": {},
     "output_type": "display_data"
    },
    {
     "name": "stdout",
     "output_type": "stream",
     "text": [
      "Ranger boots 37242500\n"
     ]
    },
    {
     "data": {
      "image/png": "[encoded data removed]",
      "text/plain": [
       "<IPython.core.display.Image object>"
      ]
     },
     "metadata": {},
     "output_type": "display_data"
    },
    {
     "name": "stdout",
     "output_type": "stream",
     "text": [
      "Robin hood hat 1822684\n"
     ]
    },
    {
     "data": {
      "image/png": "[encoded data removed]",
      "text/plain": [
       "<IPython.core.display.Image object>"
      ]
     },
     "metadata": {},
     "output_type": "display_data"
    },
    {
     "name": "stdout",
     "output_type": "stream",
     "text": [
      "Berserker necklace 2881498\n"
     ]
    },
    {
     "data": {
      "image/png": "[encoded data removed]",
      "text/plain": [
       "<IPython.core.display.Image object>"
      ]
     },
     "metadata": {},
     "output_type": "display_data"
    },
    {
     "name": "stdout",
     "output_type": "stream",
     "text": [
      "Regen bracelet 2778999\n"
     ]
    },
    {
     "data": {
      "image/png": "[encoded data removed]",
      "text/plain": [
       "<IPython.core.display.Image object>"
      ]
     },
     "metadata": {},
     "output_type": "display_data"
    },
    {
     "name": "stdout",
     "output_type": "stream",
     "text": [
      "Dragonfire shield 5101499\n"
     ]
    },
    {
     "data": {
      "image/png": "[encoded data removed]",
      "text/plain": [
       "<IPython.core.display.Image object>"
      ]
     },
     "metadata": {},
     "output_type": "display_data"
    },
    {
     "name": "stdout",
     "output_type": "stream",
     "text": [
      "Tormented bracelet 17591175\n"
     ]
    },
    {
     "data": {
      "image/png": "[encoded data removed]",
      "text/plain": [
       "<IPython.core.display.Image object>"
      ]
     },
     "metadata": {},
     "output_type": "display_data"
    },
    {
     "name": "stdout",
     "output_type": "stream",
     "text": [
      "Necklace of anguish 17497486\n"
     ]
    },
    {
     "data": {
      "image/png": "[encoded data removed]",
      "text/plain": [
       "<IPython.core.display.Image object>"
      ]
     },
     "metadata": {},
     "output_type": "display_data"
    },
    {
     "name": "stdout",
     "output_type": "stream",
     "text": [
      "Ring of suffering 17458257\n"
     ]
    },
    {
     "data": {
      "image/png": "[encoded data removed]",
      "text/plain": [
       "<IPython.core.display.Image object>"
      ]
     },
     "metadata": {},
     "output_type": "display_data"
    },
    {
     "name": "stdout",
     "output_type": "stream",
     "text": [
      "Amulet of torture 17454051\n"
     ]
    },
    {
     "data": {
      "image/png": "[encoded data removed]",
      "text/plain": [
       "<IPython.core.display.Image object>"
      ]
     },
     "metadata": {},
     "output_type": "display_data"
    },
    {
     "name": "stdout",
     "output_type": "stream",
     "text": [
      "Gilded platelegs 3009343\n"
     ]
    },
    {
     "data": {
      "image/png": "[encoded data removed]",
      "text/plain": [
       "<IPython.core.display.Image object>"
      ]
     },
     "metadata": {},
     "output_type": "display_data"
    },
    {
     "name": "stdout",
     "output_type": "stream",
     "text": [
      "Guthix d'hide boots 1010007\n"
     ]
    },
    {
     "data": {
      "image/png": "[encoded data removed]",
      "text/plain": [
       "<IPython.core.display.Image object>"
      ]
     },
     "metadata": {},
     "output_type": "display_data"
    },
    {
     "name": "stdout",
     "output_type": "stream",
     "text": [
      "Saradomin d'hide boots 1040000\n"
     ]
    },
    {
     "data": {
      "image/png": "[encoded data removed]",
      "text/plain": [
       "<IPython.core.display.Image object>"
      ]
     },
     "metadata": {},
     "output_type": "display_data"
    },
    {
     "name": "stdout",
     "output_type": "stream",
     "text": [
      "Armadyl crossbow 26518157\n"
     ]
    },
    {
     "data": {
      "image/png": "[encoded data removed]",
      "text/plain": [
       "<IPython.core.display.Image object>"
      ]
     },
     "metadata": {},
     "output_type": "display_data"
    },
    {
     "name": "stdout",
     "output_type": "stream",
     "text": [
      "Staff of the dead 4399000\n"
     ]
    },
    {
     "data": {
      "image/png": "[encoded data removed]",
      "text/plain": [
       "<IPython.core.display.Image object>"
      ]
     },
     "metadata": {},
     "output_type": "display_data"
    },
    {
     "name": "stdout",
     "output_type": "stream",
     "text": [
      "Armadyl godsword 11665420\n"
     ]
    },
    {
     "data": {
      "image/png": "[encoded data removed]",
      "text/plain": [
       "<IPython.core.display.Image object>"
      ]
     },
     "metadata": {},
     "output_type": "display_data"
    },
    {
     "name": "stdout",
     "output_type": "stream",
     "text": [
      "Bandos godsword 12225749\n"
     ]
    },
    {
     "data": {
      "image/png": "[encoded data removed]",
      "text/plain": [
       "<IPython.core.display.Image object>"
      ]
     },
     "metadata": {},
     "output_type": "display_data"
    },
    {
     "name": "stdout",
     "output_type": "stream",
     "text": [
      "Saradomin godsword 34613783\n"
     ]
    },
    {
     "data": {
      "image/png": "[encoded data removed]",
      "text/plain": [
       "<IPython.core.display.Image object>"
      ]
     },
     "metadata": {},
     "output_type": "display_data"
    },
    {
     "name": "stdout",
     "output_type": "stream",
     "text": [
      "Zamorakian spear 15090000\n"
     ]
    },
    {
     "data": {
      "image/png": "[encoded data removed]",
      "text/plain": [
       "<IPython.core.display.Image object>"
      ]
     },
     "metadata": {},
     "output_type": "display_data"
    },
    {
     "name": "stdout",
     "output_type": "stream",
     "text": [
      "Armadyl helmet 5373500\n"
     ]
    },
    {
     "data": {
      "image/png": "[encoded data removed]",
      "text/plain": [
       "<IPython.core.display.Image object>"
      ]
     },
     "metadata": {},
     "output_type": "display_data"
    },
    {
     "name": "stdout",
     "output_type": "stream",
     "text": [
      "Armadyl chestplate 38713859\n"
     ]
    },
    {
     "data": {
      "image/png": "[encoded data removed]",
      "text/plain": [
       "<IPython.core.display.Image object>"
      ]
     },
     "metadata": {},
     "output_type": "display_data"
    },
    {
     "name": "stdout",
     "output_type": "stream",
     "text": [
      "Armadyl chainskirt 32406642\n"
     ]
    },
    {
     "data": {
      "image/png": "[encoded data removed]",
      "text/plain": [
       "<IPython.core.display.Image object>"
      ]
     },
     "metadata": {},
     "output_type": "display_data"
    },
    {
     "name": "stdout",
     "output_type": "stream",
     "text": [
      "Bandos chestplate 20157875\n"
     ]
    },
    {
     "data": {
      "image/png": "[encoded data removed]",
      "text/plain": [
       "<IPython.core.display.Image object>"
      ]
     },
     "metadata": {},
     "output_type": "display_data"
    },
    {
     "name": "stdout",
     "output_type": "stream",
     "text": [
      "Bandos tassets 30072089\n"
     ]
    },
    {
     "data": {
      "image/png": "[encoded data removed]",
      "text/plain": [
       "<IPython.core.display.Image object>"
      ]
     },
     "metadata": {},
     "output_type": "display_data"
    },
    {
     "name": "stdout",
     "output_type": "stream",
     "text": [
      "Obsidian cape (r) 1916781\n"
     ]
    },
    {
     "data": {
      "image/png": "[encoded data removed]",
      "text/plain": [
       "<IPython.core.display.Image object>"
      ]
     },
     "metadata": {},
     "output_type": "display_data"
    },
    {
     "name": "stdout",
     "output_type": "stream",
     "text": [
      "Torture ornament kit 4818997\n"
     ]
    },
    {
     "data": {
      "image/png": "[encoded data removed]",
      "text/plain": [
       "<IPython.core.display.Image object>"
      ]
     },
     "metadata": {},
     "output_type": "display_data"
    },
    {
     "name": "stdout",
     "output_type": "stream",
     "text": [
      "Zamorakian hasta 15269500\n"
     ]
    },
    {
     "data": {
      "image/png": "[encoded data removed]",
      "text/plain": [
       "<IPython.core.display.Image object>"
      ]
     },
     "metadata": {},
     "output_type": "display_data"
    },
    {
     "name": "stdout",
     "output_type": "stream",
     "text": [
      "Dragon pickaxe 5255541\n"
     ]
    },
    {
     "data": {
      "image/png": "[encoded data removed]",
      "text/plain": [
       "<IPython.core.display.Image object>"
      ]
     },
     "metadata": {},
     "output_type": "display_data"
    },
    {
     "name": "stdout",
     "output_type": "stream",
     "text": [
      "Malediction ward 2765810\n"
     ]
    },
    {
     "data": {
      "image/png": "[encoded data removed]",
      "text/plain": [
       "<IPython.core.display.Image object>"
      ]
     },
     "metadata": {},
     "output_type": "display_data"
    },
    {
     "name": "stdout",
     "output_type": "stream",
     "text": [
      "Gilded 2h sword 2298212\n"
     ]
    },
    {
     "data": {
      "image/png": "[encoded data removed]",
      "text/plain": [
       "<IPython.core.display.Image object>"
      ]
     },
     "metadata": {},
     "output_type": "display_data"
    },
    {
     "name": "stdout",
     "output_type": "stream",
     "text": [
      "Smoke battlestaff 2354971\n"
     ]
    },
    {
     "data": {
      "image/png": "[encoded data removed]",
      "text/plain": [
       "<IPython.core.display.Image object>"
      ]
     },
     "metadata": {},
     "output_type": "display_data"
    },
    {
     "name": "stdout",
     "output_type": "stream",
     "text": [
      "Mystic smoke staff 2411120\n"
     ]
    },
    {
     "data": {
      "image/png": "[encoded data removed]",
      "text/plain": [
       "<IPython.core.display.Image object>"
      ]
     },
     "metadata": {},
     "output_type": "display_data"
    },
    {
     "name": "stdout",
     "output_type": "stream",
     "text": [
      "Abyssal whip 2772017\n"
     ]
    },
    {
     "data": {
      "image/png": "[encoded data removed]",
      "text/plain": [
       "<IPython.core.display.Image object>"
      ]
     },
     "metadata": {},
     "output_type": "display_data"
    },
    {
     "name": "stdout",
     "output_type": "stream",
     "text": [
      "Fury ornament kit 2007033\n"
     ]
    },
    {
     "data": {
      "image/png": "[encoded data removed]",
      "text/plain": [
       "<IPython.core.display.Image object>"
      ]
     },
     "metadata": {},
     "output_type": "display_data"
    },
    {
     "name": "stdout",
     "output_type": "stream",
     "text": [
      "Imbued heart 27363000\n"
     ]
    },
    {
     "data": {
      "image/png": "[encoded data removed]",
      "text/plain": [
       "<IPython.core.display.Image object>"
      ]
     },
     "metadata": {},
     "output_type": "display_data"
    },
    {
     "name": "stdout",
     "output_type": "stream",
     "text": [
      "Rangers' tunic 6745714\n"
     ]
    },
    {
     "data": {
      "image/png": "[encoded data removed]",
      "text/plain": [
       "<IPython.core.display.Image object>"
      ]
     },
     "metadata": {},
     "output_type": "display_data"
    },
    {
     "name": "stdout",
     "output_type": "stream",
     "text": [
      "Holy sandals 1375000\n"
     ]
    },
    {
     "data": {
      "image/png": "[encoded data removed]",
      "text/plain": [
       "<IPython.core.display.Image object>"
      ]
     },
     "metadata": {},
     "output_type": "display_data"
    },
    {
     "name": "stdout",
     "output_type": "stream",
     "text": [
      "Ring of the gods 19449500\n"
     ]
    },
    {
     "data": {
      "image/png": "[encoded data removed]",
      "text/plain": [
       "<IPython.core.display.Image object>"
      ]
     },
     "metadata": {},
     "output_type": "display_data"
    },
    {
     "name": "stdout",
     "output_type": "stream",
     "text": [
      "Twisted bow 1117521007\n"
     ]
    },
    {
     "data": {
      "image/png": "[encoded data removed]",
      "text/plain": [
       "<IPython.core.display.Image object>"
      ]
     },
     "metadata": {},
     "output_type": "display_data"
    },
    {
     "name": "stdout",
     "output_type": "stream",
     "text": [
      "Twisted buckler 5135159\n"
     ]
    },
    {
     "data": {
      "image/png": "[encoded data removed]",
      "text/plain": [
       "<IPython.core.display.Image object>"
      ]
     },
     "metadata": {},
     "output_type": "display_data"
    },
    {
     "name": "stdout",
     "output_type": "stream",
     "text": [
      "Elder maul 9899995\n"
     ]
    },
    {
     "data": {
      "image/png": "[encoded data removed]",
      "text/plain": [
       "<IPython.core.display.Image object>"
      ]
     },
     "metadata": {},
     "output_type": "display_data"
    },
    {
     "name": "stdout",
     "output_type": "stream",
     "text": [
      "Kodai wand 84100000\n"
     ]
    },
    {
     "data": {
      "image/png": "[encoded data removed]",
      "text/plain": [
       "<IPython.core.display.Image object>"
      ]
     },
     "metadata": {},
     "output_type": "display_data"
    },
    {
     "name": "stdout",
     "output_type": "stream",
     "text": [
      "Elysian spirit shield 822001007\n"
     ]
    },
    {
     "data": {
      "image/png": "[encoded data removed]",
      "text/plain": [
       "<IPython.core.display.Image object>"
      ]
     },
     "metadata": {},
     "output_type": "display_data"
    },
    {
     "name": "stdout",
     "output_type": "stream",
     "text": [
      "Dragon hunter crossbow 112353705\n"
     ]
    },
    {
     "data": {
      "image/png": "[encoded data removed]",
      "text/plain": [
       "<IPython.core.display.Image object>"
      ]
     },
     "metadata": {},
     "output_type": "display_data"
    },
    {
     "name": "stdout",
     "output_type": "stream",
     "text": [
      "Spectral spirit shield 62045000\n"
     ]
    },
    {
     "data": {
      "image/png": "[encoded data removed]",
      "text/plain": [
       "<IPython.core.display.Image object>"
      ]
     },
     "metadata": {},
     "output_type": "display_data"
    },
    {
     "name": "stdout",
     "output_type": "stream",
     "text": [
      "Dinh's bulwark 5591999\n"
     ]
    },
    {
     "data": {
      "image/png": "[encoded data removed]",
      "text/plain": [
       "<IPython.core.display.Image object>"
      ]
     },
     "metadata": {},
     "output_type": "display_data"
    },
    {
     "name": "stdout",
     "output_type": "stream",
     "text": [
      "Ancestral hat 13537460\n"
     ]
    },
    {
     "data": {
      "image/png": "[encoded data removed]",
      "text/plain": [
       "<IPython.core.display.Image object>"
      ]
     },
     "metadata": {},
     "output_type": "display_data"
    },
    {
     "name": "stdout",
     "output_type": "stream",
     "text": [
      "Dexterous prayer scroll 46290890\n"
     ]
    },
    {
     "data": {
      "image/png": "[encoded data removed]",
      "text/plain": [
       "<IPython.core.display.Image object>"
      ]
     },
     "metadata": {},
     "output_type": "display_data"
    },
    {
     "name": "stdout",
     "output_type": "stream",
     "text": [
      "Guthan's armour set 3074733\n"
     ]
    },
    {
     "data": {
      "image/png": "[encoded data removed]",
      "text/plain": [
       "<IPython.core.display.Image object>"
      ]
     },
     "metadata": {},
     "output_type": "display_data"
    },
    {
     "name": "stdout",
     "output_type": "stream",
     "text": [
      "Dharok's armour set 3012374\n"
     ]
    },
    {
     "data": {
      "image/png": "[encoded data removed]",
      "text/plain": [
       "<IPython.core.display.Image object>"
      ]
     },
     "metadata": {},
     "output_type": "display_data"
    },
    {
     "name": "stdout",
     "output_type": "stream",
     "text": [
      "Ahrim's armour set 4939999\n"
     ]
    },
    {
     "data": {
      "image/png": "[encoded data removed]",
      "text/plain": [
       "<IPython.core.display.Image object>"
      ]
     },
     "metadata": {},
     "output_type": "display_data"
    },
    {
     "name": "stdout",
     "output_type": "stream",
     "text": [
      "Karil's armour set 2386955\n"
     ]
    },
    {
     "data": {
      "image/png": "[encoded data removed]",
      "text/plain": [
       "<IPython.core.display.Image object>"
      ]
     },
     "metadata": {},
     "output_type": "display_data"
    },
    {
     "name": "stdout",
     "output_type": "stream",
     "text": [
      "Arcane prayer scroll 3094998\n"
     ]
    },
    {
     "data": {
      "image/png": "[encoded data removed]",
      "text/plain": [
       "<IPython.core.display.Image object>"
      ]
     },
     "metadata": {},
     "output_type": "display_data"
    },
    {
     "name": "stdout",
     "output_type": "stream",
     "text": [
      "Uncharged toxic trident 4870609\n"
     ]
    },
    {
     "data": {
      "image/png": "[encoded data removed]",
      "text/plain": [
       "<IPython.core.display.Image object>"
      ]
     },
     "metadata": {},
     "output_type": "display_data"
    },
    {
     "name": "stdout",
     "output_type": "stream",
     "text": [
      "Toxic staff (uncharged) 9100000\n"
     ]
    },
    {
     "data": {
      "image/png": "[encoded data removed]",
      "text/plain": [
       "<IPython.core.display.Image object>"
      ]
     },
     "metadata": {},
     "output_type": "display_data"
    },
    {
     "name": "stdout",
     "output_type": "stream",
     "text": [
      "Ahrim's robetop 2429403\n"
     ]
    },
    {
     "data": {
      "image/png": "[encoded data removed]",
      "text/plain": [
       "<IPython.core.display.Image object>"
      ]
     },
     "metadata": {},
     "output_type": "display_data"
    },
    {
     "name": "stdout",
     "output_type": "stream",
     "text": [
      "Ahrim's robeskirt 2346420\n"
     ]
    },
    {
     "data": {
      "image/png": "[encoded data removed]",
      "text/plain": [
       "<IPython.core.display.Image object>"
      ]
     },
     "metadata": {},
     "output_type": "display_data"
    },
    {
     "name": "stdout",
     "output_type": "stream",
     "text": [
      "Guthan's warspear 1079500\n"
     ]
    },
    {
     "data": {
      "image/png": "[encoded data removed]",
      "text/plain": [
       "<IPython.core.display.Image object>"
      ]
     },
     "metadata": {},
     "output_type": "display_data"
    },
    {
     "name": "stdout",
     "output_type": "stream",
     "text": [
      "Toxic blowpipe (empty) 4783548\n"
     ]
    },
    {
     "data": {
      "image/png": "[encoded data removed]",
      "text/plain": [
       "<IPython.core.display.Image object>"
      ]
     },
     "metadata": {},
     "output_type": "display_data"
    },
    {
     "name": "stdout",
     "output_type": "stream",
     "text": [
      "Serpentine visage 4790000\n"
     ]
    },
    {
     "data": {
      "image/png": "[encoded data removed]",
      "text/plain": [
       "<IPython.core.display.Image object>"
      ]
     },
     "metadata": {},
     "output_type": "display_data"
    },
    {
     "name": "stdout",
     "output_type": "stream",
     "text": [
      "Karil's leathertop 1944954\n"
     ]
    },
    {
     "data": {
      "image/png": "[encoded data removed]",
      "text/plain": [
       "<IPython.core.display.Image object>"
      ]
     },
     "metadata": {},
     "output_type": "display_data"
    },
    {
     "name": "stdout",
     "output_type": "stream",
     "text": [
      "Serpentine helm (uncharged) 4769799\n"
     ]
    },
    {
     "data": {
      "image/png": "[encoded data removed]",
      "text/plain": [
       "<IPython.core.display.Image object>"
      ]
     },
     "metadata": {},
     "output_type": "display_data"
    },
    {
     "name": "stdout",
     "output_type": "stream",
     "text": [
      "Obsidian armour set 3020000\n"
     ]
    },
    {
     "data": {
      "image/png": "[encoded data removed]",
      "text/plain": [
       "<IPython.core.display.Image object>"
      ]
     },
     "metadata": {},
     "output_type": "display_data"
    },
    {
     "name": "stdout",
     "output_type": "stream",
     "text": [
      "Old school bond 3625144\n"
     ]
    },
    {
     "data": {
      "image/png": "[encoded data removed]",
      "text/plain": [
       "<IPython.core.display.Image object>"
      ]
     },
     "metadata": {},
     "output_type": "display_data"
    },
    {
     "name": "stdout",
     "output_type": "stream",
     "text": [
      "Eternal boots 4549659\n"
     ]
    },
    {
     "data": {
      "image/png": "[encoded data removed]",
      "text/plain": [
       "<IPython.core.display.Image object>"
      ]
     },
     "metadata": {},
     "output_type": "display_data"
    },
    {
     "name": "stdout",
     "output_type": "stream",
     "text": [
      "Pegasian boots 37219414\n"
     ]
    },
    {
     "data": {
      "image/png": "[encoded data removed]",
      "text/plain": [
       "<IPython.core.display.Image object>"
      ]
     },
     "metadata": {},
     "output_type": "display_data"
    },
    {
     "name": "stdout",
     "output_type": "stream",
     "text": [
      "Primordial boots 33048453\n"
     ]
    },
    {
     "data": {
      "image/png": "[encoded data removed]",
      "text/plain": [
       "<IPython.core.display.Image object>"
      ]
     },
     "metadata": {},
     "output_type": "display_data"
    },
    {
     "name": "stdout",
     "output_type": "stream",
     "text": [
      "Abyssal bludgeon 30600000\n"
     ]
    },
    {
     "data": {
      "image/png": "[encoded data removed]",
      "text/plain": [
       "<IPython.core.display.Image object>"
      ]
     },
     "metadata": {},
     "output_type": "display_data"
    },
    {
     "name": "stdout",
     "output_type": "stream",
     "text": [
      "Dragon warhammer 55199833\n"
     ]
    },
    {
     "data": {
      "image/png": "[encoded data removed]",
      "text/plain": [
       "<IPython.core.display.Image object>"
      ]
     },
     "metadata": {},
     "output_type": "display_data"
    },
    {
     "name": "stdout",
     "output_type": "stream",
     "text": [
      "Dragon claws 59846626\n"
     ]
    },
    {
     "data": {
      "image/png": "[encoded data removed]",
      "text/plain": [
       "<IPython.core.display.Image object>"
      ]
     },
     "metadata": {},
     "output_type": "display_data"
    },
    {
     "name": "stdout",
     "output_type": "stream",
     "text": [
      "Dragon crossbow 3512366\n"
     ]
    },
    {
     "data": {
      "image/png": "[encoded data removed]",
      "text/plain": [
       "<IPython.core.display.Image object>"
      ]
     },
     "metadata": {},
     "output_type": "display_data"
    },
    {
     "name": "stdout",
     "output_type": "stream",
     "text": [
      "Dragon crossbow (u) 3450000\n"
     ]
    },
    {
     "data": {
      "image/png": "[encoded data removed]",
      "text/plain": [
       "<IPython.core.display.Image object>"
      ]
     },
     "metadata": {},
     "output_type": "display_data"
    },
    {
     "name": "stdout",
     "output_type": "stream",
     "text": [
      "Dragonfire ward 27599999\n"
     ]
    },
    {
     "data": {
      "image/png": "[encoded data removed]",
      "text/plain": [
       "<IPython.core.display.Image object>"
      ]
     },
     "metadata": {},
     "output_type": "display_data"
    },
    {
     "name": "stdout",
     "output_type": "stream",
     "text": [
      "Staff of light 4599999\n"
     ]
    },
    {
     "data": {
      "image/png": "[encoded data removed]",
      "text/plain": [
       "<IPython.core.display.Image object>"
      ]
     },
     "metadata": {},
     "output_type": "display_data"
    },
    {
     "name": "stdout",
     "output_type": "stream",
     "text": [
      "Ghrazi rapier 171693102\n"
     ]
    },
    {
     "data": {
      "image/png": "[encoded data removed]",
      "text/plain": [
       "<IPython.core.display.Image object>"
      ]
     },
     "metadata": {},
     "output_type": "display_data"
    },
    {
     "name": "stdout",
     "output_type": "stream",
     "text": [
      "Justiciar faceguard 31516889\n"
     ]
    },
    {
     "data": {
      "image/png": "[encoded data removed]",
      "text/plain": [
       "<IPython.core.display.Image object>"
      ]
     },
     "metadata": {},
     "output_type": "display_data"
    },
    {
     "name": "stdout",
     "output_type": "stream",
     "text": [
      "Justiciar chestguard 17316000\n"
     ]
    },
    {
     "data": {
      "image/png": "[encoded data removed]",
      "text/plain": [
       "<IPython.core.display.Image object>"
      ]
     },
     "metadata": {},
     "output_type": "display_data"
    },
    {
     "name": "stdout",
     "output_type": "stream",
     "text": [
      "Justiciar legguards 17916000\n"
     ]
    },
    {
     "data": {
      "image/png": "[encoded data removed]",
      "text/plain": [
       "<IPython.core.display.Image object>"
      ]
     },
     "metadata": {},
     "output_type": "display_data"
    },
    {
     "name": "stdout",
     "output_type": "stream",
     "text": [
      "Justiciar armour set 66715000\n"
     ]
    },
    {
     "data": {
      "image/png": "[encoded data removed]",
      "text/plain": [
       "<IPython.core.display.Image object>"
      ]
     },
     "metadata": {},
     "output_type": "display_data"
    },
    {
     "name": "stdout",
     "output_type": "stream",
     "text": [
      "Avernic defender hilt 77294799\n"
     ]
    },
    {
     "data": {
      "image/png": "[encoded data removed]",
      "text/plain": [
       "<IPython.core.display.Image object>"
      ]
     },
     "metadata": {},
     "output_type": "display_data"
    },
    {
     "name": "stdout",
     "output_type": "stream",
     "text": [
      "Sanguinesti staff (uncharged) 115044044\n"
     ]
    },
    {
     "data": {
      "image/png": "[encoded data removed]",
      "text/plain": [
       "<IPython.core.display.Image object>"
      ]
     },
     "metadata": {},
     "output_type": "display_data"
    },
    {
     "name": "stdout",
     "output_type": "stream",
     "text": [
      "Scythe of vitur (uncharged) 761300000\n"
     ]
    },
    {
     "data": {
      "image/png": "[encoded data removed]",
      "text/plain": [
       "<IPython.core.display.Image object>"
      ]
     },
     "metadata": {},
     "output_type": "display_data"
    },
    {
     "name": "stdout",
     "output_type": "stream",
     "text": [
      "Viggora's chainmace (u) 2922176\n"
     ]
    },
    {
     "data": {
      "image/png": "[encoded data removed]",
      "text/plain": [
       "<IPython.core.display.Image object>"
      ]
     },
     "metadata": {},
     "output_type": "display_data"
    },
    {
     "name": "stdout",
     "output_type": "stream",
     "text": [
      "Craw's bow (u) 9354098\n"
     ]
    },
    {
     "data": {
      "image/png": "[encoded data removed]",
      "text/plain": [
       "<IPython.core.display.Image object>"
      ]
     },
     "metadata": {},
     "output_type": "display_data"
    },
    {
     "name": "stdout",
     "output_type": "stream",
     "text": [
      "Devout boots 1217999\n"
     ]
    },
    {
     "data": {
      "image/png": "[encoded data removed]",
      "text/plain": [
       "<IPython.core.display.Image object>"
      ]
     },
     "metadata": {},
     "output_type": "display_data"
    },
    {
     "name": "stdout",
     "output_type": "stream",
     "text": [
      "Amulet of fury 2733874\n"
     ]
    },
    {
     "data": {
      "image/png": "[encoded data removed]",
      "text/plain": [
       "<IPython.core.display.Image object>"
      ]
     },
     "metadata": {},
     "output_type": "display_data"
    },
    {
     "name": "stdout",
     "output_type": "stream",
     "text": [
      "Dragon hunter lance 94605499\n"
     ]
    },
    {
     "data": {
      "image/png": "[encoded data removed]",
      "text/plain": [
       "<IPython.core.display.Image object>"
      ]
     },
     "metadata": {},
     "output_type": "display_data"
    },
    {
     "name": "stdout",
     "output_type": "stream",
     "text": [
      "Hydra leather 6829997\n"
     ]
    },
    {
     "data": {
      "image/png": "[encoded data removed]",
      "text/plain": [
       "<IPython.core.display.Image object>"
      ]
     },
     "metadata": {},
     "output_type": "display_data"
    },
    {
     "name": "stdout",
     "output_type": "stream",
     "text": [
      "Archers ring 5353812\n"
     ]
    },
    {
     "data": {
      "image/png": "[encoded data removed]",
      "text/plain": [
       "<IPython.core.display.Image object>"
      ]
     },
     "metadata": {},
     "output_type": "display_data"
    },
    {
     "name": "stdout",
     "output_type": "stream",
     "text": [
      "Berserker ring 2892083\n"
     ]
    },
    {
     "data": {
      "image/png": "[encoded data removed]",
      "text/plain": [
       "<IPython.core.display.Image object>"
      ]
     },
     "metadata": {},
     "output_type": "display_data"
    },
    {
     "name": "stdout",
     "output_type": "stream",
     "text": [
      "Gilded dragonhide set 16170000\n"
     ]
    },
    {
     "data": {
      "image/png": "[encoded data removed]",
      "text/plain": [
       "<IPython.core.display.Image object>"
      ]
     },
     "metadata": {},
     "output_type": "display_data"
    },
    {
     "name": "stdout",
     "output_type": "stream",
     "text": [
      "Gilded coif 1125000\n"
     ]
    },
    {
     "data": {
      "image/png": "[encoded data removed]",
      "text/plain": [
       "<IPython.core.display.Image object>"
      ]
     },
     "metadata": {},
     "output_type": "display_data"
    },
    {
     "name": "stdout",
     "output_type": "stream",
     "text": [
      "Gilded d'hide body 1396888\n"
     ]
    },
    {
     "data": {
      "image/png": "[encoded data removed]",
      "text/plain": [
       "<IPython.core.display.Image object>"
      ]
     },
     "metadata": {},
     "output_type": "display_data"
    },
    {
     "name": "stdout",
     "output_type": "stream",
     "text": [
      "Mage's book 5954765\n"
     ]
    },
    {
     "data": {
      "image/png": "[encoded data removed]",
      "text/plain": [
       "<IPython.core.display.Image object>"
      ]
     },
     "metadata": {},
     "output_type": "display_data"
    },
    {
     "name": "stdout",
     "output_type": "stream",
     "text": [
      "Master wand 6048000\n"
     ]
    },
    {
     "data": {
      "image/png": "[encoded data removed]",
      "text/plain": [
       "<IPython.core.display.Image object>"
      ]
     },
     "metadata": {},
     "output_type": "display_data"
    },
    {
     "name": "stdout",
     "output_type": "stream",
     "text": [
      "Infinity top 4048888\n"
     ]
    },
    {
     "data": {
      "image/png": "[encoded data removed]",
      "text/plain": [
       "<IPython.core.display.Image object>"
      ]
     },
     "metadata": {},
     "output_type": "display_data"
    },
    {
     "name": "stdout",
     "output_type": "stream",
     "text": [
      "Infinity hat 3479700\n"
     ]
    },
    {
     "data": {
      "image/png": "[encoded data removed]",
      "text/plain": [
       "<IPython.core.display.Image object>"
      ]
     },
     "metadata": {},
     "output_type": "display_data"
    },
    {
     "name": "stdout",
     "output_type": "stream",
     "text": [
      "Infinity boots 1525000\n"
     ]
    },
    {
     "data": {
      "image/png": "[encoded data removed]",
      "text/plain": [
       "<IPython.core.display.Image object>"
      ]
     },
     "metadata": {},
     "output_type": "display_data"
    },
    {
     "name": "stdout",
     "output_type": "stream",
     "text": [
      "Infinity bottoms 4645500\n"
     ]
    },
    {
     "data": {
      "image/png": "[encoded data removed]",
      "text/plain": [
       "<IPython.core.display.Image object>"
      ]
     },
     "metadata": {},
     "output_type": "display_data"
    },
    {
     "name": "stdout",
     "output_type": "stream",
     "text": [
      "Tormented ornament kit 6490332\n"
     ]
    },
    {
     "data": {
      "image/png": "[encoded data removed]",
      "text/plain": [
       "<IPython.core.display.Image object>"
      ]
     },
     "metadata": {},
     "output_type": "display_data"
    },
    {
     "name": "stdout",
     "output_type": "stream",
     "text": [
      "Crystal armour seed 4053998\n"
     ]
    },
    {
     "data": {
      "image/png": "[encoded data removed]",
      "text/plain": [
       "<IPython.core.display.Image object>"
      ]
     },
     "metadata": {},
     "output_type": "display_data"
    },
    {
     "name": "stdout",
     "output_type": "stream",
     "text": [
      "Dagon'hai robe top 9149500\n"
     ]
    },
    {
     "data": {
      "image/png": "[encoded data removed]",
      "text/plain": [
       "<IPython.core.display.Image object>"
      ]
     },
     "metadata": {},
     "output_type": "display_data"
    },
    {
     "name": "stdout",
     "output_type": "stream",
     "text": [
      "Dagon'hai robes set 14975000\n"
     ]
    },
    {
     "data": {
      "image/png": "[encoded data removed]",
      "text/plain": [
       "<IPython.core.display.Image object>"
      ]
     },
     "metadata": {},
     "output_type": "display_data"
    },
    {
     "name": "stdout",
     "output_type": "stream",
     "text": [
      "Nightmare staff 52000000\n"
     ]
    },
    {
     "data": {
      "image/png": "[encoded data removed]",
      "text/plain": [
       "<IPython.core.display.Image object>"
      ]
     },
     "metadata": {},
     "output_type": "display_data"
    }
   ],
   "source": [
    "url = \"https://rsbuddy.com/exchange/summary.json\"\n",
    "json = requests.get(url).json()\n",
    "\n",
    "for key in json:\n",
    "    for i, values in enumerate(json[key]):\n",
    "        #print(i)\n",
    "        #print(values, json[key][values])\n",
    "        if(i == 4 and json[key][values] > 1000000): #4 ==> buy average\n",
    "            print(json[key][\"name\"], json[key][\"buy_average\"]) #example of getting items above 1m\n",
    "            img = Image('https://rsbuddy.com/items/'+ str(json[key][\"id\"]) +'.png')\n",
    "            display(img)"
   ]
  },
  {
   "cell_type": "code",
   "execution_count": 4,
   "metadata": {},
   "outputs": [
    {
     "name": "stdout",
     "output_type": "stream",
     "text": [
      "Black mask (10) 1059548\n",
      "Black mask 1069220\n",
      "3rd age robe top 51999999\n",
      "3rd age full helmet 14949414\n",
      "Ranger boots 37161599\n",
      "Robin hood hat 1818652\n",
      "Berserker necklace 2880996\n",
      "Regen bracelet 2779499\n",
      "Dragonfire shield 5102374\n",
      "Tormented bracelet 17591900\n",
      "Necklace of anguish 17496095\n",
      "Amulet of torture 17472333\n",
      "Gilded platelegs 2993673\n",
      "Guthix d'hide boots 1010007\n",
      "Saradomin d'hide boots 1040000\n",
      "Armadyl crossbow 26498000\n",
      "Staff of the dead 4399000\n",
      "Armadyl godsword 11660283\n",
      "Bandos godsword 12225992\n",
      "Saradomin godsword 34702871\n",
      "Zamorakian spear 15090000\n",
      "Armadyl helmet 5373500\n",
      "Armadyl chestplate 38713859\n",
      "Armadyl chainskirt 32391799\n",
      "Bandos chestplate 20153261\n",
      "Bandos tassets 30092546\n",
      "Obsidian cape (r) 1916781\n",
      "Zamorakian hasta 15269500\n",
      "Dragon pickaxe 5314316\n",
      "Malediction ward 2764352\n",
      "Gilded 2h sword 2298212\n",
      "Smoke battlestaff 2354971\n",
      "Mystic smoke staff 2411120\n",
      "Abyssal whip 2774395\n",
      "Gilded scimitar 14144201\n",
      "Fury ornament kit 2007033\n",
      "Imbued heart 27381500\n",
      "Rangers' tunic 6755944\n",
      "Holy sandals 1221332\n",
      "Ring of the gods 19449500\n",
      "Twisted bow 1117521007\n",
      "Twisted buckler 5129614\n",
      "Elder maul 9909998\n",
      "Kodai wand 84100000\n",
      "Elysian spirit shield 822001007\n",
      "Dragon hunter crossbow 112346277\n",
      "Spectral spirit shield 62100000\n",
      "Dinh's bulwark 5892500\n",
      "Ancestral hat 13510000\n",
      "Ancestral robe top 65420000\n",
      "Dexterous prayer scroll 46252170\n",
      "Guthan's armour set 3023417\n",
      "Verac's armour set 1125000\n",
      "Dharok's armour set 3015779\n",
      "Ahrim's armour set 4939999\n",
      "Karil's armour set 2386955\n",
      "Arcane prayer scroll 3039982\n",
      "Uncharged toxic trident 4892240\n",
      "Toxic staff (uncharged) 9056000\n",
      "Ahrim's robetop 2427910\n",
      "Ahrim's robeskirt 2343222\n",
      "Guthan's warspear 1031568\n",
      "Toxic blowpipe (empty) 4773984\n",
      "Karil's leathertop 1938999\n",
      "Serpentine helm (uncharged) 4768166\n",
      "Gilded armour set (lg) 9194801\n",
      "Obsidian platebody 1160000\n",
      "Old school bond 3605506\n",
      "Eternal crystal 3040000\n",
      "Eternal boots 4512648\n",
      "Pegasian boots 37218047\n",
      "Primordial boots 33057614\n",
      "Abyssal bludgeon 30621852\n",
      "Abyssal dagger 6255555\n",
      "Guardian boots 4125000\n",
      "Dragon warhammer 55209370\n",
      "Dragon claws 59861991\n",
      "Dragon crossbow 3486428\n",
      "Staff of light 4599999\n",
      "Ghrazi rapier 171693102\n",
      "Justiciar faceguard 31483057\n",
      "Justiciar chestguard 17297944\n",
      "Justiciar legguards 17930814\n",
      "Justiciar armour set 66722629\n",
      "Avernic defender hilt 77303999\n",
      "Sanguinesti staff (uncharged) 115044044\n",
      "Scythe of vitur (uncharged) 761300000\n",
      "Viggora's chainmace (u) 2924526\n",
      "Craw's bow (u) 9343078\n",
      "Boots of brimstone 1099500\n",
      "Devout boots 1217999\n",
      "Amulet of fury 2732288\n",
      "Brimstone ring 4700933\n",
      "Dragon hunter lance 94639666\n",
      "Archers ring 5330104\n",
      "Berserker ring 2906562\n",
      "Gilded coif 1125000\n",
      "Gilded d'hide body 1396888\n",
      "Mage's book 5958639\n",
      "Master wand 6026500\n",
      "Infinity top 4048888\n",
      "Infinity hat 3479700\n",
      "Infinity boots 1524111\n",
      "Infinity bottoms 4645500\n",
      "Tormented ornament kit 6468000\n",
      "Crystal armour seed 4053998\n"
     ]
    }
   ],
   "source": [
    "ts = time.time()*1000.0\n",
    "url = \"https://rsbuddy.com/exchange/summary.json?ts=\"+ str(ts)\n",
    "json = requests.get(url).json()\n",
    "\n",
    "for key in json:\n",
    "    for i, values in enumerate(json[key]):\n",
    "        if(i == 4 and json[key][values] > 1000000): #4 ==> buy average\n",
    "            print(json[key][\"name\"], json[key][\"buy_average\"]) #example of getting items above 1m\n",
    "            img = Image('https://rsbuddy.com/items/'+ str(json[key][\"id\"]) +'.png')\n",
    "            #display(img)"
   ]
  },
  {
   "cell_type": "code",
   "execution_count": 7,
   "metadata": {},
   "outputs": [
    {
     "data": {
      "text/html": [
       "<table>\n",
       "<tbody>\n",
       "<tr><td>Sun  </td><td style=\"text-align: right;\">696000</td><td style=\"text-align: right;\">   1.9891e+09</td></tr>\n",
       "<tr><td>Earth</td><td style=\"text-align: right;\">  6371</td><td style=\"text-align: right;\">5973.6       </td></tr>\n",
       "<tr><td>Moon </td><td style=\"text-align: right;\">  1737</td><td style=\"text-align: right;\">  73.5       </td></tr>\n",
       "<tr><td>Mars </td><td style=\"text-align: right;\">  3390</td><td style=\"text-align: right;\"> 641.85      </td></tr>\n",
       "</tbody>\n",
       "</table>"
      ],
      "text/plain": [
       "<IPython.core.display.HTML object>"
      ]
     },
     "metadata": {},
     "output_type": "display_data"
    }
   ],
   "source": [
    "from IPython.display import HTML, display\n",
    "import tabulate\n",
    "table = [[\"Sun\",696000,1989100000],\n",
    "         [\"Earth\",6371,5973.6],\n",
    "         [\"Moon\",1737,73.5],\n",
    "         [\"Mars\",3390,641.85]]\n",
    "display(HTML(tabulate.tabulate(table, tablefmt='html')))"
   ]
  },
  {
   "cell_type": "code",
   "execution_count": 8,
   "metadata": {},
   "outputs": [
    {
     "data": {
      "text/html": [
       "<table>\n",
       "<tbody>\n",
       "<tr><td>item                         </td><td>Price     </td></tr>\n",
       "<tr><td>Black mask                   </td><td>1053996   </td></tr>\n",
       "<tr><td>Pharaoh's sceptre (3)        </td><td>7399999   </td></tr>\n",
       "<tr><td>Flared trousers              </td><td>1092666   </td></tr>\n",
       "<tr><td>Ranger boots                 </td><td>37615999  </td></tr>\n",
       "<tr><td>Robin hood hat               </td><td>1771758   </td></tr>\n",
       "<tr><td>Berserker necklace           </td><td>2809999   </td></tr>\n",
       "<tr><td>Regen bracelet               </td><td>2785666   </td></tr>\n",
       "<tr><td>Dragonfire shield            </td><td>5148920   </td></tr>\n",
       "<tr><td>Zenyte necklace              </td><td>17630000  </td></tr>\n",
       "<tr><td>Zenyte amulet                </td><td>19399000  </td></tr>\n",
       "<tr><td>Tormented bracelet           </td><td>17607015  </td></tr>\n",
       "<tr><td>Necklace of anguish          </td><td>17532648  </td></tr>\n",
       "<tr><td>Ring of suffering            </td><td>17517514  </td></tr>\n",
       "<tr><td>Amulet of torture            </td><td>17566892  </td></tr>\n",
       "<tr><td>Amulet of eternal glory      </td><td>31474999  </td></tr>\n",
       "<tr><td>Armadyl d'hide boots         </td><td>1499000   </td></tr>\n",
       "<tr><td>Saradomin d'hide boots       </td><td>1055500   </td></tr>\n",
       "<tr><td>Zamorak d'hide boots         </td><td>1191279   </td></tr>\n",
       "<tr><td>Armadyl crossbow             </td><td>26446002  </td></tr>\n",
       "<tr><td>Staff of the dead            </td><td>4345924   </td></tr>\n",
       "<tr><td>Armadyl godsword             </td><td>11512859  </td></tr>\n",
       "<tr><td>Bandos godsword              </td><td>12290018  </td></tr>\n",
       "<tr><td>Saradomin godsword           </td><td>35006231  </td></tr>\n",
       "<tr><td>Zamorak godsword             </td><td>4186018   </td></tr>\n",
       "<tr><td>Zamorakian spear             </td><td>15228750  </td></tr>\n",
       "<tr><td>Armadyl helmet               </td><td>5355881   </td></tr>\n",
       "<tr><td>Armadyl chestplate           </td><td>38885880  </td></tr>\n",
       "<tr><td>Armadyl chainskirt           </td><td>32515789  </td></tr>\n",
       "<tr><td>Bandos chestplate            </td><td>20313502  </td></tr>\n",
       "<tr><td>Bandos tassets               </td><td>30320341  </td></tr>\n",
       "<tr><td>Obsidian cape (r)            </td><td>1945000   </td></tr>\n",
       "<tr><td>Zamorakian hasta             </td><td>15409375  </td></tr>\n",
       "<tr><td>Dragon pickaxe               </td><td>5220587   </td></tr>\n",
       "<tr><td>Malediction ward             </td><td>2727246   </td></tr>\n",
       "<tr><td>Odium ward                   </td><td>1996456   </td></tr>\n",
       "<tr><td>Smoke battlestaff            </td><td>2369879   </td></tr>\n",
       "<tr><td>Mystic smoke staff           </td><td>2427201   </td></tr>\n",
       "<tr><td>Abyssal whip                 </td><td>2778977   </td></tr>\n",
       "<tr><td>Fury ornament kit            </td><td>2017301   </td></tr>\n",
       "<tr><td>Imbued heart                 </td><td>27911757  </td></tr>\n",
       "<tr><td>Rangers' tunic               </td><td>7007914   </td></tr>\n",
       "<tr><td>Holy sandals                 </td><td>1121047   </td></tr>\n",
       "<tr><td>Tyrannical ring              </td><td>1682545   </td></tr>\n",
       "<tr><td>Saradomin's tear             </td><td>5097998   </td></tr>\n",
       "<tr><td>Twisted bow                  </td><td>1118405740</td></tr>\n",
       "<tr><td>Twisted buckler              </td><td>5145714   </td></tr>\n",
       "<tr><td>Elder maul                   </td><td>9833733   </td></tr>\n",
       "<tr><td>Kodai wand                   </td><td>84038665  </td></tr>\n",
       "<tr><td>Elysian spirit shield        </td><td>822451115 </td></tr>\n",
       "<tr><td>Dragon hunter crossbow       </td><td>112326522 </td></tr>\n",
       "<tr><td>Dinh's bulwark               </td><td>5696888   </td></tr>\n",
       "<tr><td>Ancestral hat                </td><td>13711492  </td></tr>\n",
       "<tr><td>Ancestral robe top           </td><td>65058724  </td></tr>\n",
       "<tr><td>Ancestral robe bottom        </td><td>67090137  </td></tr>\n",
       "<tr><td>Guthan's armour set          </td><td>3028907   </td></tr>\n",
       "<tr><td>Dharok's armour set          </td><td>3009624   </td></tr>\n",
       "<tr><td>Ahrim's armour set           </td><td>4900000   </td></tr>\n",
       "<tr><td>Karil's armour set           </td><td>2376366   </td></tr>\n",
       "<tr><td>Uncharged toxic trident      </td><td>4891730   </td></tr>\n",
       "<tr><td>Ahrim's robetop              </td><td>2398681   </td></tr>\n",
       "<tr><td>Ahrim's robeskirt            </td><td>2338939   </td></tr>\n",
       "<tr><td>Dharok's platebody           </td><td>1085000   </td></tr>\n",
       "<tr><td>Dharok's platelegs           </td><td>1002000   </td></tr>\n",
       "<tr><td>Guthan's warspear            </td><td>1027865   </td></tr>\n",
       "<tr><td>Toxic blowpipe (empty)       </td><td>4813642   </td></tr>\n",
       "<tr><td>Karil's leathertop           </td><td>1896869   </td></tr>\n",
       "<tr><td>Serpentine helm (uncharged)  </td><td>4952911   </td></tr>\n",
       "<tr><td>Obsidian armour set          </td><td>2985000   </td></tr>\n",
       "<tr><td>Obsidian platebody           </td><td>1158996   </td></tr>\n",
       "<tr><td>Zamorak dragonhide set       </td><td>1460499   </td></tr>\n",
       "<tr><td>Old school bond              </td><td>3683184   </td></tr>\n",
       "<tr><td>Smouldering stone            </td><td>1645557   </td></tr>\n",
       "<tr><td>Eternal boots                </td><td>4488724   </td></tr>\n",
       "<tr><td>Pegasian boots               </td><td>37433756  </td></tr>\n",
       "<tr><td>Primordial boots             </td><td>33165703  </td></tr>\n",
       "<tr><td>Abyssal bludgeon             </td><td>30506463  </td></tr>\n",
       "<tr><td>Abyssal dagger               </td><td>6230764   </td></tr>\n",
       "<tr><td>Abyssal dagger (p++)         </td><td>6245180   </td></tr>\n",
       "<tr><td>Guardian boots               </td><td>4131151   </td></tr>\n",
       "<tr><td>Dragon warhammer             </td><td>55711670  </td></tr>\n",
       "<tr><td>Ancient statuette            </td><td>1990055   </td></tr>\n",
       "<tr><td>Dragon claws                 </td><td>59892431  </td></tr>\n",
       "<tr><td>Dragon crossbow              </td><td>3401500   </td></tr>\n",
       "<tr><td>Dragonfire ward              </td><td>27468494  </td></tr>\n",
       "<tr><td>Dragon platebody ornament kit</td><td>17497998  </td></tr>\n",
       "<tr><td>Ancient medallion            </td><td>3976033   </td></tr>\n",
       "<tr><td>Ancient effigy               </td><td>7970024   </td></tr>\n",
       "<tr><td>Ancient relic                </td><td>15956034  </td></tr>\n",
       "<tr><td>Ghrazi rapier                </td><td>171536946 </td></tr>\n",
       "<tr><td>Justiciar chestguard         </td><td>17191666  </td></tr>\n",
       "<tr><td>Justiciar legguards          </td><td>17859995  </td></tr>\n",
       "<tr><td>Justiciar armour set         </td><td>66734666  </td></tr>\n",
       "<tr><td>Avernic defender hilt        </td><td>76000001  </td></tr>\n",
       "<tr><td>Sanguinesti staff (uncharged)</td><td>116839755 </td></tr>\n",
       "<tr><td>Scythe of vitur (uncharged)  </td><td>756960805 </td></tr>\n",
       "<tr><td>Viggora's chainmace (u)      </td><td>2913435   </td></tr>\n",
       "<tr><td>Craw's bow (u)               </td><td>9315626   </td></tr>\n",
       "<tr><td>Boots of brimstone           </td><td>1073029   </td></tr>\n",
       "<tr><td>Ring of stone                </td><td>1023896   </td></tr>\n",
       "<tr><td>Amulet of fury               </td><td>2735618   </td></tr>\n",
       "<tr><td>Brimstone ring               </td><td>4727555   </td></tr>\n",
       "<tr><td>Dragon hunter lance          </td><td>94704834  </td></tr>\n",
       "<tr><td>Archers ring                 </td><td>5100852   </td></tr>\n",
       "<tr><td>Berserker ring               </td><td>2931175   </td></tr>\n",
       "<tr><td>Gilded d'hide body           </td><td>1396888   </td></tr>\n",
       "<tr><td>Mage's book                  </td><td>5945168   </td></tr>\n",
       "<tr><td>Master wand                  </td><td>5969721   </td></tr>\n",
       "<tr><td>Infinity boots               </td><td>1507276   </td></tr>\n",
       "<tr><td>Infinity gloves              </td><td>1989000   </td></tr>\n",
       "<tr><td>Basilisk jaw                 </td><td>20704705  </td></tr>\n",
       "<tr><td>Dagon'hai robe top           </td><td>9135000   </td></tr>\n",
       "<tr><td>Nightmare staff              </td><td>50240000  </td></tr>\n",
       "<tr><td>Volatile orb                 </td><td>298838000 </td></tr>\n",
       "</tbody>\n",
       "</table>"
      ],
      "text/plain": [
       "<IPython.core.display.HTML object>"
      ]
     },
     "metadata": {},
     "output_type": "display_data"
    }
   ],
   "source": [
    "from IPython.display import HTML, display\n",
    "import tabulate\n",
    "\n",
    "ts = time.time()*1000.0\n",
    "url = \"https://rsbuddy.com/exchange/summary.json?ts=\"+ str(ts)\n",
    "json = requests.get(url).json()\n",
    "\n",
    "table = [[\"item\",\"Price\"]]\n",
    "for key in json:\n",
    "    for i, values in enumerate(json[key]):\n",
    "        if(i == 4 and json[key][values] > 1000000): #4 ==> buy average\n",
    "            #print(json[key][\"name\"], json[key][\"buy_average\"]) #example of getting items above 1m\n",
    "            table.append([json[key][\"name\"], json[key][\"buy_average\"]])\n",
    "            img = Image('https://rsbuddy.com/items/'+ str(json[key][\"id\"]) +'.png')\n",
    "            #display(img)\n",
    "            \n",
    "display(HTML(tabulate.tabulate(table, tablefmt='html')))"
   ]
  },
  {
   "cell_type": "code",
   "execution_count": null,
   "metadata": {},
   "outputs": [],
   "source": [
    "#TODO\n",
    "#compare old ts with new ts --> price difference last 5 mins / 15 mins / 30 mins / 1 hour\n",
    "#get data -> put in arrays -> show objects in tables"
   ]
  }
 ],
 "metadata": {
  "kernelspec": {
   "display_name": "Python 3",
   "language": "python",
   "name": "python3"
  },
  "language_info": {
   "codemirror_mode": {
    "name": "ipython",
    "version": 3
   },
   "file_extension": ".py",
   "mimetype": "text/x-python",
   "name": "python",
   "nbconvert_exporter": "python",
   "pygments_lexer": "ipython3",
   "version": "3.7.3"
  },
  "toc": {
   "base_numbering": 1,
   "nav_menu": {},
   "number_sections": true,
   "sideBar": true,
   "skip_h1_title": false,
   "title_cell": "Table of Contents",
   "title_sidebar": "Contents",
   "toc_cell": false,
   "toc_position": {},
   "toc_section_display": true,
   "toc_window_display": false
  }
 },
 "nbformat": 4,
 "nbformat_minor": 2
}
